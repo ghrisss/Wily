{
 "cells": [
  {
   "cell_type": "markdown",
   "id": "bb18d58c",
   "metadata": {},
   "source": [
    "##### Importacao de bibliotecas e banco de dados"
   ]
  },
  {
   "cell_type": "code",
   "execution_count": null,
   "id": "b61707fd",
   "metadata": {},
   "outputs": [],
   "source": [
    "import pandas as pd\n",
    "from pathlib import Path"
   ]
  },
  {
   "cell_type": "code",
   "execution_count": null,
   "id": "7f5dc540",
   "metadata": {},
   "outputs": [],
   "source": [
    "base_path = Path(\"database\")\n",
    "base_airbnb = pd.DataFrame()\n",
    "for file in base_path.iterdir():\n",
    "    if file.name.endswith(\".csv\"):\n",
    "        month_df = pd.read_csv(base_path / file.name)\n"
   ]
  }
 ],
 "metadata": {
  "kernelspec": {
   "display_name": "venv",
   "language": "python",
   "name": "python3"
  },
  "language_info": {
   "codemirror_mode": {
    "name": "ipython",
    "version": 3
   },
   "file_extension": ".py",
   "mimetype": "text/x-python",
   "name": "python",
   "nbconvert_exporter": "python",
   "pygments_lexer": "ipython3",
   "version": "3.10.12"
  }
 },
 "nbformat": 4,
 "nbformat_minor": 5
}

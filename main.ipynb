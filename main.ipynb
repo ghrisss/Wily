{
 "cells": [
  {
   "cell_type": "markdown",
   "id": "69bb1d6f",
   "metadata": {},
   "source": [
    "##### Importacao de bibliotecas e banco de dados"
   ]
  },
  {
   "cell_type": "code",
   "execution_count": null,
   "id": "b61707fd",
   "metadata": {},
   "outputs": [],
   "source": [
    "import pandas as pd\n",
    "from pathlib import Path"
   ]
  },
  {
   "cell_type": "code",
   "execution_count": null,
   "id": "7f5dc540",
   "metadata": {},
   "outputs": [],
   "source": [
    "base_path = Path(\"database\")\n",
    "base_airbnb = pd.DataFrame()\n",
    "for file in base_path.iterdir():\n",
    "    if file.name.endswith(\".csv\"):\n",
    "        month_df = pd.read_csv(base_path / file.name)\n",
    "        month_df['last_scraped'] = pd.to_datetime(month_df['last_scraped'])\n",
    "        month_df['year'] = month_df['last_scraped'].dt.year\n",
    "        month_df['month'] = month_df['last_scraped'].dt.month\n",
    "        base_airbnb = pd.concat([base_airbnb, month_df], ignore_index=True)\n"
   ]
  },
  {
   "cell_type": "markdown",
   "id": "c2fa9f6b",
   "metadata": {},
   "source": [
    "##### Limpeza do dataset\n",
    "\n",
    "Como tempo muitas colunas no nosso dataset, o modelo fica mais lento.\n",
    "\n",
    "Uma análise será feita para retirar as colunas que não serão necessárias para o nosso modelo de previsao.\n",
    "\n",
    "colunas que serão excluídas:\n",
    "\n",
    "- IDs, links e informações nao relevantes ao modelo.\n",
    "- criada colunas separadas para ano e mes de extracao (mais util para a análise), excluindo a coluna com a data completa\n",
    "- Colunas preenchidas com texto livre (nao será utilizado nenhuma análise de palavras, ou LLM, focando-se um modelo mais simples)\n",
    "- colunas com todos (ou proximo a isso) são iguais\n",
    "- precos que nao sejam diarios\n",
    "- informacoes fiscais exigidas (análise busca verificar características do imovel)"
   ]
  },
  {
   "cell_type": "code",
   "execution_count": null,
   "id": "c78d0dba",
   "metadata": {},
   "outputs": [],
   "source": [
    "print(list(base_airbnb.columns))"
   ]
  },
  {
   "cell_type": "code",
   "execution_count": null,
   "id": "e25eebef",
   "metadata": {},
   "outputs": [],
   "source": [
    "columns = [\n",
    "    \"host_response_time\",\n",
    "    \"host_response_rate\",\n",
    "    \"host_is_superhost\",\n",
    "    \"host_listings_count\",\n",
    "    \"latitude\",\n",
    "    \"longitude\",\n",
    "    \"property_type\",\n",
    "    \"room_type\",\n",
    "    \"accommodates\",\n",
    "    \"bathrooms\",\n",
    "    \"bedrooms\",\n",
    "    \"beds\",\n",
    "    \"bed_type\",\n",
    "    \"amenities\",\n",
    "    \"price\",\n",
    "    \"security_deposit\",\n",
    "    \"cleaning_fee\",\n",
    "    \"guests_included\",\n",
    "    \"extra_people\",\n",
    "    \"minimum_nights\",\n",
    "    \"maximum_nights\",\n",
    "    \"number_of_reviews\",\n",
    "    \"review_scores_rating\",\n",
    "    \"review_scores_accuracy\",\n",
    "    \"review_scores_cleanliness\",\n",
    "    \"review_scores_checkin\",\n",
    "    \"review_scores_communication\",\n",
    "    \"review_scores_location\",\n",
    "    \"review_scores_value\",\n",
    "    \"instant_bookable\",\n",
    "    \"is_business_travel_ready\",\n",
    "    \"cancellation_policy\",\n",
    "    \"year\",\n",
    "    \"month\",\n",
    "]\n",
    "base_airbnb = base_airbnb.loc[:, columns]\n",
    "display(base_airbnb)"
   ]
  }
 ],
 "metadata": {
  "kernelspec": {
   "display_name": "venv",
   "language": "python",
   "name": "python3"
  },
  "language_info": {
   "codemirror_mode": {
    "name": "ipython",
    "version": 3
   },
   "file_extension": ".py",
   "mimetype": "text/x-python",
   "name": "python",
   "nbconvert_exporter": "python",
   "pygments_lexer": "ipython3",
   "version": "3.10.12"
  }
 },
 "nbformat": 4,
 "nbformat_minor": 5
}
